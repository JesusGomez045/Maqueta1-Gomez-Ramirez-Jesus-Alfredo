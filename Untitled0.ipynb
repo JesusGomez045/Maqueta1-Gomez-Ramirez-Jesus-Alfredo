{
  "nbformat": 4,
  "nbformat_minor": 0,
  "metadata": {
    "colab": {
      "provenance": [],
      "authorship_tag": "ABX9TyOyqm2xRw3/GpZ8rYZl1+/r",
      "include_colab_link": true
    },
    "kernelspec": {
      "name": "python3",
      "display_name": "Python 3"
    },
    "language_info": {
      "name": "python"
    }
  },
  "cells": [
    {
      "cell_type": "markdown",
      "metadata": {
        "id": "view-in-github",
        "colab_type": "text"
      },
      "source": [
        "<a href=\"https://colab.research.google.com/github/JesusGomez045/Maqueta1-Gomez-Ramirez-Jesus-Alfredo/blob/main/Untitled0.ipynb\" target=\"_parent\"><img src=\"https://colab.research.google.com/assets/colab-badge.svg\" alt=\"Open In Colab\"/></a>"
      ]
    },
    {
      "cell_type": "code",
      "execution_count": null,
      "metadata": {
        "id": "-BvBLIl1bpqT"
      },
      "outputs": [],
      "source": []
    },
    {
      "cell_type": "markdown",
      "source": [
        "###este es mi muestra de GOOGLE COLAB\n",
        "##soy Jesus Alfredo Gomez Ramirez\n",
        "\n",
        "<img src=https://i.pinimg.com/originals/17/aa/48/17aa484b520a96167baf5f3f4627cca3.jpg>"
      ],
      "metadata": {
        "id": "T8wJgOQRbtBs"
      }
    },
    {
      "cell_type": "markdown",
      "source": [],
      "metadata": {
        "id": "ZXK6mFLnbsBF"
      }
    }
  ]
}